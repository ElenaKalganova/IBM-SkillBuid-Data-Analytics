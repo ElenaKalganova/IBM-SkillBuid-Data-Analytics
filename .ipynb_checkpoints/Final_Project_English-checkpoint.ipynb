{
 "cells": [
  {
   "cell_type": "markdown",
   "metadata": {
    "id": "5daa76fe"
   },
   "source": [
    "<center><h1>Capstone Project Creation</h1></center>\n",
    "<center><h3>IBM SkillsBuild Europe Delivery - Data Analytics</h3></center>\n",
    "\n",
    "\n",
    "# Pre-requisite\n",
    "\n",
    "* Understanding of Python, Power BI or Tableau\n",
    "* Understanding of Data Cleaning\n",
    "* Understanding Data Visualization\n",
    "\n",
    "#### Level of Exercise: Intermediate\n",
    "\n",
    "#### Duration: approximately 3 hours\n"
   ]
  },
  {
   "cell_type": "markdown",
   "metadata": {
    "id": "ce8639cb"
   },
   "source": [
    "### Data Analytics of Airbnb Data:\n",
    "\n",
    "#### Objective:\n",
    "\n",
    "In this exericise, you will be performing Data Analytics on an Open Dataset dataset coming from Airbnb. Some of the tasks include\n",
    "- Data Cleaning.\n",
    "- Data Transformation\n",
    "- Data Visualization.\n",
    "\n",
    "#### Overview of Airbnb Data:\n",
    "\n",
    "People's main criteria when visiting new places are reasonable accommodation and food. Airbnb (Air-Bed-Breakfast) is an online marketplace created to meet this need of people by renting out their homes for a short term. They offer this facility at a relatively lower price than hotels. Further people worldwide prefer the homely and economical service offered by them. They offer services across various geographical locations\n",
    "\n",
    "#### Dataset Source\n",
    "\n",
    "YOu can get the dataset for this assessment using the following link: https://www.kaggle.com/datasets/arianazmoudeh/airbnbopendata\n",
    "\n",
    "This dataset contains information such as the neighborhood offering these services, room type, price,avaliabilty, reviews, service fee, cancellation policy and rules to use the house. This analysis will help airbnb in improving its services.  \n",
    "\n",
    "So all the best for your Data Analytics Journey on Airbnb data!!!"
   ]
  },
  {
   "cell_type": "markdown",
   "metadata": {
    "id": "9a86cf69"
   },
   "source": [
    "## Task 1: Data Loading (Python)\n",
    "\n",
    "1. Read the csv file and load it into a pandas dataframe.\n",
    "2. Display the first five rows of your dataframe.\n",
    "3. Display the data types of the columns."
   ]
  },
  {
   "cell_type": "code",
   "execution_count": 1,
   "metadata": {},
   "outputs": [],
   "source": [
    "import pandas as pd\n",
    "import os\n",
    "from matplotlib import pyplot as plt\n",
    "import seaborn as sns\n",
    "import numpy as np"
   ]
  },
  {
   "cell_type": "code",
   "execution_count": 3,
   "metadata": {
    "id": "3e5ea376"
   },
   "outputs": [],
   "source": [
    "## Read the csv file\n",
    "df= pd.read_csv('Data\\Airbnb_Open_Data.csv')"
   ]
  },
  {
   "cell_type": "code",
   "execution_count": 4,
   "metadata": {
    "id": "18c08d94"
   },
   "outputs": [
    {
     "data": {
      "text/html": [
       "<div>\n",
       "<style scoped>\n",
       "    .dataframe tbody tr th:only-of-type {\n",
       "        vertical-align: middle;\n",
       "    }\n",
       "\n",
       "    .dataframe tbody tr th {\n",
       "        vertical-align: top;\n",
       "    }\n",
       "\n",
       "    .dataframe thead th {\n",
       "        text-align: right;\n",
       "    }\n",
       "</style>\n",
       "<table border=\"1\" class=\"dataframe\">\n",
       "  <thead>\n",
       "    <tr style=\"text-align: right;\">\n",
       "      <th></th>\n",
       "      <th>id</th>\n",
       "      <th>NAME</th>\n",
       "      <th>host id</th>\n",
       "      <th>host_identity_verified</th>\n",
       "      <th>host name</th>\n",
       "      <th>neighbourhood group</th>\n",
       "      <th>neighbourhood</th>\n",
       "      <th>lat</th>\n",
       "      <th>long</th>\n",
       "      <th>country</th>\n",
       "      <th>...</th>\n",
       "      <th>service fee</th>\n",
       "      <th>minimum nights</th>\n",
       "      <th>number of reviews</th>\n",
       "      <th>last review</th>\n",
       "      <th>reviews per month</th>\n",
       "      <th>review rate number</th>\n",
       "      <th>calculated host listings count</th>\n",
       "      <th>availability 365</th>\n",
       "      <th>house_rules</th>\n",
       "      <th>license</th>\n",
       "    </tr>\n",
       "  </thead>\n",
       "  <tbody>\n",
       "    <tr>\n",
       "      <td>0</td>\n",
       "      <td>1001254</td>\n",
       "      <td>Clean &amp; quiet apt home by the park</td>\n",
       "      <td>80014485718</td>\n",
       "      <td>unconfirmed</td>\n",
       "      <td>Madaline</td>\n",
       "      <td>Brooklyn</td>\n",
       "      <td>Kensington</td>\n",
       "      <td>40.64749</td>\n",
       "      <td>-73.97237</td>\n",
       "      <td>United States</td>\n",
       "      <td>...</td>\n",
       "      <td>$193</td>\n",
       "      <td>10.0</td>\n",
       "      <td>9.0</td>\n",
       "      <td>10/19/2021</td>\n",
       "      <td>0.21</td>\n",
       "      <td>4.0</td>\n",
       "      <td>6.0</td>\n",
       "      <td>286.0</td>\n",
       "      <td>Clean up and treat the home the way you'd like...</td>\n",
       "      <td>NaN</td>\n",
       "    </tr>\n",
       "    <tr>\n",
       "      <td>1</td>\n",
       "      <td>1002102</td>\n",
       "      <td>Skylit Midtown Castle</td>\n",
       "      <td>52335172823</td>\n",
       "      <td>verified</td>\n",
       "      <td>Jenna</td>\n",
       "      <td>Manhattan</td>\n",
       "      <td>Midtown</td>\n",
       "      <td>40.75362</td>\n",
       "      <td>-73.98377</td>\n",
       "      <td>United States</td>\n",
       "      <td>...</td>\n",
       "      <td>$28</td>\n",
       "      <td>30.0</td>\n",
       "      <td>45.0</td>\n",
       "      <td>5/21/2022</td>\n",
       "      <td>0.38</td>\n",
       "      <td>4.0</td>\n",
       "      <td>2.0</td>\n",
       "      <td>228.0</td>\n",
       "      <td>Pet friendly but please confirm with me if the...</td>\n",
       "      <td>NaN</td>\n",
       "    </tr>\n",
       "    <tr>\n",
       "      <td>2</td>\n",
       "      <td>1002403</td>\n",
       "      <td>THE VILLAGE OF HARLEM....NEW YORK !</td>\n",
       "      <td>78829239556</td>\n",
       "      <td>NaN</td>\n",
       "      <td>Elise</td>\n",
       "      <td>Manhattan</td>\n",
       "      <td>Harlem</td>\n",
       "      <td>40.80902</td>\n",
       "      <td>-73.94190</td>\n",
       "      <td>United States</td>\n",
       "      <td>...</td>\n",
       "      <td>$124</td>\n",
       "      <td>3.0</td>\n",
       "      <td>0.0</td>\n",
       "      <td>NaN</td>\n",
       "      <td>NaN</td>\n",
       "      <td>5.0</td>\n",
       "      <td>1.0</td>\n",
       "      <td>352.0</td>\n",
       "      <td>I encourage you to use my kitchen, cooking and...</td>\n",
       "      <td>NaN</td>\n",
       "    </tr>\n",
       "    <tr>\n",
       "      <td>3</td>\n",
       "      <td>1002755</td>\n",
       "      <td>NaN</td>\n",
       "      <td>85098326012</td>\n",
       "      <td>unconfirmed</td>\n",
       "      <td>Garry</td>\n",
       "      <td>Brooklyn</td>\n",
       "      <td>Clinton Hill</td>\n",
       "      <td>40.68514</td>\n",
       "      <td>-73.95976</td>\n",
       "      <td>United States</td>\n",
       "      <td>...</td>\n",
       "      <td>$74</td>\n",
       "      <td>30.0</td>\n",
       "      <td>270.0</td>\n",
       "      <td>7/5/2019</td>\n",
       "      <td>4.64</td>\n",
       "      <td>4.0</td>\n",
       "      <td>1.0</td>\n",
       "      <td>322.0</td>\n",
       "      <td>NaN</td>\n",
       "      <td>NaN</td>\n",
       "    </tr>\n",
       "    <tr>\n",
       "      <td>4</td>\n",
       "      <td>1003689</td>\n",
       "      <td>Entire Apt: Spacious Studio/Loft by central park</td>\n",
       "      <td>92037596077</td>\n",
       "      <td>verified</td>\n",
       "      <td>Lyndon</td>\n",
       "      <td>Manhattan</td>\n",
       "      <td>East Harlem</td>\n",
       "      <td>40.79851</td>\n",
       "      <td>-73.94399</td>\n",
       "      <td>United States</td>\n",
       "      <td>...</td>\n",
       "      <td>$41</td>\n",
       "      <td>10.0</td>\n",
       "      <td>9.0</td>\n",
       "      <td>11/19/2018</td>\n",
       "      <td>0.10</td>\n",
       "      <td>3.0</td>\n",
       "      <td>1.0</td>\n",
       "      <td>289.0</td>\n",
       "      <td>Please no smoking in the house, porch or on th...</td>\n",
       "      <td>NaN</td>\n",
       "    </tr>\n",
       "  </tbody>\n",
       "</table>\n",
       "<p>5 rows × 26 columns</p>\n",
       "</div>"
      ],
      "text/plain": [
       "        id                                              NAME      host id  \\\n",
       "0  1001254                Clean & quiet apt home by the park  80014485718   \n",
       "1  1002102                             Skylit Midtown Castle  52335172823   \n",
       "2  1002403               THE VILLAGE OF HARLEM....NEW YORK !  78829239556   \n",
       "3  1002755                                               NaN  85098326012   \n",
       "4  1003689  Entire Apt: Spacious Studio/Loft by central park  92037596077   \n",
       "\n",
       "  host_identity_verified host name neighbourhood group neighbourhood  \\\n",
       "0            unconfirmed  Madaline            Brooklyn    Kensington   \n",
       "1               verified     Jenna           Manhattan       Midtown   \n",
       "2                    NaN     Elise           Manhattan        Harlem   \n",
       "3            unconfirmed     Garry            Brooklyn  Clinton Hill   \n",
       "4               verified    Lyndon           Manhattan   East Harlem   \n",
       "\n",
       "        lat      long        country  ... service fee minimum nights  \\\n",
       "0  40.64749 -73.97237  United States  ...       $193            10.0   \n",
       "1  40.75362 -73.98377  United States  ...        $28            30.0   \n",
       "2  40.80902 -73.94190  United States  ...       $124             3.0   \n",
       "3  40.68514 -73.95976  United States  ...        $74            30.0   \n",
       "4  40.79851 -73.94399  United States  ...        $41            10.0   \n",
       "\n",
       "  number of reviews last review  reviews per month review rate number  \\\n",
       "0               9.0  10/19/2021               0.21                4.0   \n",
       "1              45.0   5/21/2022               0.38                4.0   \n",
       "2               0.0         NaN                NaN                5.0   \n",
       "3             270.0    7/5/2019               4.64                4.0   \n",
       "4               9.0  11/19/2018               0.10                3.0   \n",
       "\n",
       "  calculated host listings count  availability 365  \\\n",
       "0                            6.0             286.0   \n",
       "1                            2.0             228.0   \n",
       "2                            1.0             352.0   \n",
       "3                            1.0             322.0   \n",
       "4                            1.0             289.0   \n",
       "\n",
       "                                         house_rules license  \n",
       "0  Clean up and treat the home the way you'd like...     NaN  \n",
       "1  Pet friendly but please confirm with me if the...     NaN  \n",
       "2  I encourage you to use my kitchen, cooking and...     NaN  \n",
       "3                                                NaN     NaN  \n",
       "4  Please no smoking in the house, porch or on th...     NaN  \n",
       "\n",
       "[5 rows x 26 columns]"
      ]
     },
     "execution_count": 4,
     "metadata": {},
     "output_type": "execute_result"
    }
   ],
   "source": [
    "## Display the first 5 rows\n",
    "df.head()"
   ]
  },
  {
   "cell_type": "code",
   "execution_count": 5,
   "metadata": {
    "id": "0e61d56e"
   },
   "outputs": [
    {
     "name": "stdout",
     "output_type": "stream",
     "text": [
      "id                                  int64:dense\n",
      "NAME                               object:dense\n",
      "host id                             int64:dense\n",
      "host_identity_verified             object:dense\n",
      "host name                          object:dense\n",
      "neighbourhood group                object:dense\n",
      "neighbourhood                      object:dense\n",
      "lat                               float64:dense\n",
      "long                              float64:dense\n",
      "country                            object:dense\n",
      "country code                       object:dense\n",
      "instant_bookable                   object:dense\n",
      "cancellation_policy                object:dense\n",
      "room type                          object:dense\n",
      "Construction year                 float64:dense\n",
      "price                              object:dense\n",
      "service fee                        object:dense\n",
      "minimum nights                    float64:dense\n",
      "number of reviews                 float64:dense\n",
      "last review                        object:dense\n",
      "reviews per month                 float64:dense\n",
      "review rate number                float64:dense\n",
      "calculated host listings count    float64:dense\n",
      "availability 365                  float64:dense\n",
      "house_rules                        object:dense\n",
      "license                            object:dense\n",
      "dtype: object\n"
     ]
    },
    {
     "name": "stderr",
     "output_type": "stream",
     "text": [
      "C:\\Users\\Elena\\Anaconda3\\lib\\site-packages\\ipykernel_launcher.py:2: FutureWarning: DataFrame.ftypes is deprecated and will be removed in a future version. Use DataFrame.dtypes instead.\n",
      "  \n"
     ]
    }
   ],
   "source": [
    "## Display the data types\n",
    "print(df.ftypes)\n",
    "# print(df.info())"
   ]
  },
  {
   "cell_type": "code",
   "execution_count": 7,
   "metadata": {},
   "outputs": [
    {
     "data": {
      "text/plain": [
       "532"
      ]
     },
     "execution_count": 7,
     "metadata": {},
     "output_type": "execute_result"
    }
   ],
   "source": [
    "df['country'].isna().sum()"
   ]
  },
  {
   "cell_type": "markdown",
   "metadata": {
    "id": "0b2e801f"
   },
   "source": [
    "## Task 2a: Data Cleaning (Any Tool)\n",
    "\n",
    "1. Drop some of the unwanted columns. These include `host id`, `id`, `country` and `country code` from the dataset.\n",
    "2. State the reason for not including these columns for your Data Analytics.\n",
    "\n",
    "If using Python for this exercise, please include the code in the cells below. If using any other tool, please include screenshoots before and after the elimination of the columns."
   ]
  },
  {
   "cell_type": "markdown",
   "metadata": {},
   "source": [
    "### Solution"
   ]
  },
  {
   "cell_type": "markdown",
   "metadata": {},
   "source": [
    "**Excluded columns: Country, Country code,**\n",
    "1. **Country.** There are only one non-NaN value (\"United States \"), and 532 NaN values. So, the column doesn't add exta infomation\n",
    "2. **Country code.** The same as Contry: only one non-NaN value (\"US\"), and 131 NaN values. So, the column doesn't add extra infomation"
   ]
  },
  {
   "cell_type": "code",
   "execution_count": 760,
   "metadata": {},
   "outputs": [
    {
     "name": "stdout",
     "output_type": "stream",
     "text": [
      "Unique values in the column: \n",
      " United States    102067\n",
      "Name: country, dtype: int64 \n",
      "\n",
      "Unique values in the column: \n",
      " US    102468\n",
      "Name: country code, dtype: int64\n"
     ]
    }
   ],
   "source": [
    "print('Unique values in the column: \\n', df['country'].value_counts(),'\\n')\n",
    "\n",
    "print('Unique values in the column: \\n', df['country code'].value_counts())"
   ]
  },
  {
   "cell_type": "markdown",
   "metadata": {
    "id": "3de0751f"
   },
   "source": [
    "3. **Name** A host is uniquely identified by id, so the name column is redundant\n",
    "4. **license** has only 2 rows with non-NaN values\n"
   ]
  },
  {
   "cell_type": "code",
   "execution_count": 761,
   "metadata": {},
   "outputs": [
    {
     "name": "stdout",
     "output_type": "stream",
     "text": [
      "Count of unique values in the column: 41662/AL    2\n",
      "Name: license, dtype: int64 \n",
      "\n",
      "Number of NaN values: \n",
      " 102597\n"
     ]
    }
   ],
   "source": [
    "print('Count of unique values in the column:', df['license'].value_counts(),'\\n')\n",
    "print('Number of NaN values: \\n', df['license'].isna().sum())"
   ]
  },
  {
   "cell_type": "markdown",
   "metadata": {},
   "source": [
    "5. **'host id', 'id', 'host name', 'house_rules','last review'**"
   ]
  },
  {
   "cell_type": "code",
   "execution_count": 762,
   "metadata": {
    "id": "01bd2922-a607-4df9-a73e-204525d4d8a4"
   },
   "outputs": [],
   "source": [
    "df = df.drop(columns=['country', 'country code','NAME', 'host id', 'id', 'host name', 'house_rules','last review', 'license'])"
   ]
  },
  {
   "cell_type": "markdown",
   "metadata": {},
   "source": [
    "**Dataframe after transformation**"
   ]
  },
  {
   "cell_type": "code",
   "execution_count": 763,
   "metadata": {
    "id": "b7537ecf-cf3f-4a64-8538-883ec723fad8"
   },
   "outputs": [
    {
     "data": {
      "text/html": [
       "<div>\n",
       "<style scoped>\n",
       "    .dataframe tbody tr th:only-of-type {\n",
       "        vertical-align: middle;\n",
       "    }\n",
       "\n",
       "    .dataframe tbody tr th {\n",
       "        vertical-align: top;\n",
       "    }\n",
       "\n",
       "    .dataframe thead th {\n",
       "        text-align: right;\n",
       "    }\n",
       "</style>\n",
       "<table border=\"1\" class=\"dataframe\">\n",
       "  <thead>\n",
       "    <tr style=\"text-align: right;\">\n",
       "      <th></th>\n",
       "      <th>host_identity_verified</th>\n",
       "      <th>neighbourhood group</th>\n",
       "      <th>neighbourhood</th>\n",
       "      <th>lat</th>\n",
       "      <th>long</th>\n",
       "      <th>instant_bookable</th>\n",
       "      <th>cancellation_policy</th>\n",
       "      <th>room type</th>\n",
       "      <th>Construction year</th>\n",
       "      <th>price</th>\n",
       "      <th>service fee</th>\n",
       "      <th>minimum nights</th>\n",
       "      <th>number of reviews</th>\n",
       "      <th>reviews per month</th>\n",
       "      <th>review rate number</th>\n",
       "      <th>calculated host listings count</th>\n",
       "      <th>availability 365</th>\n",
       "    </tr>\n",
       "  </thead>\n",
       "  <tbody>\n",
       "    <tr>\n",
       "      <td>0</td>\n",
       "      <td>unconfirmed</td>\n",
       "      <td>Brooklyn</td>\n",
       "      <td>Kensington</td>\n",
       "      <td>40.64749</td>\n",
       "      <td>-73.97237</td>\n",
       "      <td>False</td>\n",
       "      <td>strict</td>\n",
       "      <td>Private room</td>\n",
       "      <td>2020.0</td>\n",
       "      <td>$966</td>\n",
       "      <td>$193</td>\n",
       "      <td>10.0</td>\n",
       "      <td>9.0</td>\n",
       "      <td>0.21</td>\n",
       "      <td>4.0</td>\n",
       "      <td>6.0</td>\n",
       "      <td>286.0</td>\n",
       "    </tr>\n",
       "    <tr>\n",
       "      <td>1</td>\n",
       "      <td>verified</td>\n",
       "      <td>Manhattan</td>\n",
       "      <td>Midtown</td>\n",
       "      <td>40.75362</td>\n",
       "      <td>-73.98377</td>\n",
       "      <td>False</td>\n",
       "      <td>moderate</td>\n",
       "      <td>Entire home/apt</td>\n",
       "      <td>2007.0</td>\n",
       "      <td>$142</td>\n",
       "      <td>$28</td>\n",
       "      <td>30.0</td>\n",
       "      <td>45.0</td>\n",
       "      <td>0.38</td>\n",
       "      <td>4.0</td>\n",
       "      <td>2.0</td>\n",
       "      <td>228.0</td>\n",
       "    </tr>\n",
       "    <tr>\n",
       "      <td>2</td>\n",
       "      <td>NaN</td>\n",
       "      <td>Manhattan</td>\n",
       "      <td>Harlem</td>\n",
       "      <td>40.80902</td>\n",
       "      <td>-73.94190</td>\n",
       "      <td>True</td>\n",
       "      <td>flexible</td>\n",
       "      <td>Private room</td>\n",
       "      <td>2005.0</td>\n",
       "      <td>$620</td>\n",
       "      <td>$124</td>\n",
       "      <td>3.0</td>\n",
       "      <td>0.0</td>\n",
       "      <td>NaN</td>\n",
       "      <td>5.0</td>\n",
       "      <td>1.0</td>\n",
       "      <td>352.0</td>\n",
       "    </tr>\n",
       "    <tr>\n",
       "      <td>3</td>\n",
       "      <td>unconfirmed</td>\n",
       "      <td>Brooklyn</td>\n",
       "      <td>Clinton Hill</td>\n",
       "      <td>40.68514</td>\n",
       "      <td>-73.95976</td>\n",
       "      <td>True</td>\n",
       "      <td>moderate</td>\n",
       "      <td>Entire home/apt</td>\n",
       "      <td>2005.0</td>\n",
       "      <td>$368</td>\n",
       "      <td>$74</td>\n",
       "      <td>30.0</td>\n",
       "      <td>270.0</td>\n",
       "      <td>4.64</td>\n",
       "      <td>4.0</td>\n",
       "      <td>1.0</td>\n",
       "      <td>322.0</td>\n",
       "    </tr>\n",
       "    <tr>\n",
       "      <td>4</td>\n",
       "      <td>verified</td>\n",
       "      <td>Manhattan</td>\n",
       "      <td>East Harlem</td>\n",
       "      <td>40.79851</td>\n",
       "      <td>-73.94399</td>\n",
       "      <td>False</td>\n",
       "      <td>moderate</td>\n",
       "      <td>Entire home/apt</td>\n",
       "      <td>2009.0</td>\n",
       "      <td>$204</td>\n",
       "      <td>$41</td>\n",
       "      <td>10.0</td>\n",
       "      <td>9.0</td>\n",
       "      <td>0.10</td>\n",
       "      <td>3.0</td>\n",
       "      <td>1.0</td>\n",
       "      <td>289.0</td>\n",
       "    </tr>\n",
       "  </tbody>\n",
       "</table>\n",
       "</div>"
      ],
      "text/plain": [
       "  host_identity_verified neighbourhood group neighbourhood       lat  \\\n",
       "0            unconfirmed            Brooklyn    Kensington  40.64749   \n",
       "1               verified           Manhattan       Midtown  40.75362   \n",
       "2                    NaN           Manhattan        Harlem  40.80902   \n",
       "3            unconfirmed            Brooklyn  Clinton Hill  40.68514   \n",
       "4               verified           Manhattan   East Harlem  40.79851   \n",
       "\n",
       "       long instant_bookable cancellation_policy        room type  \\\n",
       "0 -73.97237            False              strict     Private room   \n",
       "1 -73.98377            False            moderate  Entire home/apt   \n",
       "2 -73.94190             True            flexible     Private room   \n",
       "3 -73.95976             True            moderate  Entire home/apt   \n",
       "4 -73.94399            False            moderate  Entire home/apt   \n",
       "\n",
       "   Construction year  price service fee  minimum nights  number of reviews  \\\n",
       "0             2020.0  $966        $193             10.0                9.0   \n",
       "1             2007.0  $142         $28             30.0               45.0   \n",
       "2             2005.0  $620        $124              3.0                0.0   \n",
       "3             2005.0  $368         $74             30.0              270.0   \n",
       "4             2009.0  $204         $41             10.0                9.0   \n",
       "\n",
       "   reviews per month  review rate number  calculated host listings count  \\\n",
       "0               0.21                 4.0                             6.0   \n",
       "1               0.38                 4.0                             2.0   \n",
       "2                NaN                 5.0                             1.0   \n",
       "3               4.64                 4.0                             1.0   \n",
       "4               0.10                 3.0                             1.0   \n",
       "\n",
       "   availability 365  \n",
       "0             286.0  \n",
       "1             228.0  \n",
       "2             352.0  \n",
       "3             322.0  \n",
       "4             289.0  "
      ]
     },
     "execution_count": 763,
     "metadata": {},
     "output_type": "execute_result"
    }
   ],
   "source": [
    "df.head()"
   ]
  },
  {
   "cell_type": "markdown",
   "metadata": {
    "id": "2071cce7"
   },
   "source": [
    "## Task 2b: Data Cleaning (Python)\n",
    "\n",
    "- Check for missing values in the dataframe and display the count in ascending order. **If the values are missing, impute the values as per the datatype of the columns.**\n",
    "- Check whether there are any duplicate values in the dataframe and, if present, remove them.\n",
    "- Display the total number of records in the dataframe before and after removing the duplicates."
   ]
  },
  {
   "cell_type": "markdown",
   "metadata": {},
   "source": [
    "### Solution"
   ]
  },
  {
   "cell_type": "code",
   "execution_count": 764,
   "metadata": {
    "id": "e78c0409"
   },
   "outputs": [
    {
     "name": "stdout",
     "output_type": "stream",
     "text": [
      "room type                             0\n",
      "lat                                   8\n",
      "long                                  8\n",
      "neighbourhood                        16\n",
      "neighbourhood group                  29\n",
      "cancellation_policy                  76\n",
      "instant_bookable                    105\n",
      "number of reviews                   183\n",
      "Construction year                   214\n",
      "price                               247\n",
      "service fee                         273\n",
      "host_identity_verified              289\n",
      "calculated host listings count      319\n",
      "review rate number                  326\n",
      "minimum nights                      409\n",
      "availability 365                    448\n",
      "reviews per month                 15879\n",
      "dtype: int64\n"
     ]
    }
   ],
   "source": [
    "## Check for missing values in the dataframe and display the count in ascending order.\n",
    "df_nullcount = df.isnull().sum()\n",
    "print(df_nullcount.sort_values())"
   ]
  },
  {
   "cell_type": "code",
   "execution_count": 765,
   "metadata": {
    "id": "7a691fba"
   },
   "outputs": [
    {
     "name": "stdout",
     "output_type": "stream",
     "text": [
      "There are 3636 duplicated values in the dataframe\n"
     ]
    }
   ],
   "source": [
    "## Check whether there are any duplicate values in the dataframe and if present remove them.\n",
    "\n",
    "print('There are %.0f duplicated values in the dataframe' %df.duplicated().sum())\n",
    "\n",
    "# remove duplicated rows\n",
    "\n",
    "df.drop(df[df.duplicated()].index, inplace=True)"
   ]
  },
  {
   "cell_type": "code",
   "execution_count": 766,
   "metadata": {},
   "outputs": [
    {
     "name": "stdout",
     "output_type": "stream",
     "text": [
      "There are 0 duplicated values in the dataframe\n"
     ]
    }
   ],
   "source": [
    "# check if the duplicates were removed\n",
    "print('There are %.0f duplicated values in the dataframe' %df.duplicated().sum())"
   ]
  },
  {
   "cell_type": "code",
   "execution_count": 767,
   "metadata": {
    "id": "5b1596fa"
   },
   "outputs": [
    {
     "name": "stdout",
     "output_type": "stream",
     "text": [
      "The total number of records in the dataframe after removing the duplicates:\n"
     ]
    },
    {
     "data": {
      "text/plain": [
       "98963"
      ]
     },
     "execution_count": 767,
     "metadata": {},
     "output_type": "execute_result"
    }
   ],
   "source": [
    "## Display the total number of records in the dataframe after removing the duplicates.\n",
    "print('The total number of records in the dataframe after removing the duplicates:')\n",
    "len(df)"
   ]
  },
  {
   "cell_type": "markdown",
   "metadata": {
    "id": "1bf8912c"
   },
   "source": [
    "## Task 3: Data Transformation (Any Tool)\n",
    "\n",
    "\n",
    "- Rename the column `availability 365` to `days_booked`\n",
    "- Convert all column names to lowercase and replace the spaces in the column names with an underscore \"_\".\n",
    "- Remove the dollar sign and comma from the columns `price` and `service_fee`. If necessary, convert these two columns to the appropriate data type.\n",
    "\n",
    "If using Python for this exercise, please include the code in the cells below. If using any other tool, please include screenshoots of your work."
   ]
  },
  {
   "cell_type": "code",
   "execution_count": 768,
   "metadata": {
    "id": "3adf9b6b"
   },
   "outputs": [],
   "source": [
    "## Rename the column.\n",
    "df=df.rename(columns={\"availability 365\": \"days_booked\"})"
   ]
  },
  {
   "cell_type": "code",
   "execution_count": 769,
   "metadata": {
    "id": "9e968504"
   },
   "outputs": [],
   "source": [
    "## Convert all column names to lowercase and replace the spaces with an underscore \"_\"\n",
    "columns_titles = []\n",
    "for title in df.columns:\n",
    "    title=title.replace(' ','_')\n",
    "    columns_titles.append(title.lower())\n",
    "    \n",
    "df.columns=columns_titles"
   ]
  },
  {
   "cell_type": "code",
   "execution_count": 770,
   "metadata": {},
   "outputs": [
    {
     "data": {
      "text/html": [
       "<div>\n",
       "<style scoped>\n",
       "    .dataframe tbody tr th:only-of-type {\n",
       "        vertical-align: middle;\n",
       "    }\n",
       "\n",
       "    .dataframe tbody tr th {\n",
       "        vertical-align: top;\n",
       "    }\n",
       "\n",
       "    .dataframe thead th {\n",
       "        text-align: right;\n",
       "    }\n",
       "</style>\n",
       "<table border=\"1\" class=\"dataframe\">\n",
       "  <thead>\n",
       "    <tr style=\"text-align: right;\">\n",
       "      <th></th>\n",
       "      <th>host_identity_verified</th>\n",
       "      <th>neighbourhood_group</th>\n",
       "      <th>neighbourhood</th>\n",
       "      <th>lat</th>\n",
       "      <th>long</th>\n",
       "      <th>instant_bookable</th>\n",
       "      <th>cancellation_policy</th>\n",
       "      <th>room_type</th>\n",
       "      <th>construction_year</th>\n",
       "      <th>price</th>\n",
       "      <th>service_fee</th>\n",
       "      <th>minimum_nights</th>\n",
       "      <th>number_of_reviews</th>\n",
       "      <th>reviews_per_month</th>\n",
       "      <th>review_rate_number</th>\n",
       "      <th>calculated_host_listings_count</th>\n",
       "      <th>days_booked</th>\n",
       "    </tr>\n",
       "  </thead>\n",
       "  <tbody>\n",
       "    <tr>\n",
       "      <td>0</td>\n",
       "      <td>unconfirmed</td>\n",
       "      <td>Brooklyn</td>\n",
       "      <td>Kensington</td>\n",
       "      <td>40.64749</td>\n",
       "      <td>-73.97237</td>\n",
       "      <td>False</td>\n",
       "      <td>strict</td>\n",
       "      <td>Private room</td>\n",
       "      <td>2020.0</td>\n",
       "      <td>$966</td>\n",
       "      <td>$193</td>\n",
       "      <td>10.0</td>\n",
       "      <td>9.0</td>\n",
       "      <td>0.21</td>\n",
       "      <td>4.0</td>\n",
       "      <td>6.0</td>\n",
       "      <td>286.0</td>\n",
       "    </tr>\n",
       "    <tr>\n",
       "      <td>1</td>\n",
       "      <td>verified</td>\n",
       "      <td>Manhattan</td>\n",
       "      <td>Midtown</td>\n",
       "      <td>40.75362</td>\n",
       "      <td>-73.98377</td>\n",
       "      <td>False</td>\n",
       "      <td>moderate</td>\n",
       "      <td>Entire home/apt</td>\n",
       "      <td>2007.0</td>\n",
       "      <td>$142</td>\n",
       "      <td>$28</td>\n",
       "      <td>30.0</td>\n",
       "      <td>45.0</td>\n",
       "      <td>0.38</td>\n",
       "      <td>4.0</td>\n",
       "      <td>2.0</td>\n",
       "      <td>228.0</td>\n",
       "    </tr>\n",
       "    <tr>\n",
       "      <td>2</td>\n",
       "      <td>NaN</td>\n",
       "      <td>Manhattan</td>\n",
       "      <td>Harlem</td>\n",
       "      <td>40.80902</td>\n",
       "      <td>-73.94190</td>\n",
       "      <td>True</td>\n",
       "      <td>flexible</td>\n",
       "      <td>Private room</td>\n",
       "      <td>2005.0</td>\n",
       "      <td>$620</td>\n",
       "      <td>$124</td>\n",
       "      <td>3.0</td>\n",
       "      <td>0.0</td>\n",
       "      <td>NaN</td>\n",
       "      <td>5.0</td>\n",
       "      <td>1.0</td>\n",
       "      <td>352.0</td>\n",
       "    </tr>\n",
       "    <tr>\n",
       "      <td>3</td>\n",
       "      <td>unconfirmed</td>\n",
       "      <td>Brooklyn</td>\n",
       "      <td>Clinton Hill</td>\n",
       "      <td>40.68514</td>\n",
       "      <td>-73.95976</td>\n",
       "      <td>True</td>\n",
       "      <td>moderate</td>\n",
       "      <td>Entire home/apt</td>\n",
       "      <td>2005.0</td>\n",
       "      <td>$368</td>\n",
       "      <td>$74</td>\n",
       "      <td>30.0</td>\n",
       "      <td>270.0</td>\n",
       "      <td>4.64</td>\n",
       "      <td>4.0</td>\n",
       "      <td>1.0</td>\n",
       "      <td>322.0</td>\n",
       "    </tr>\n",
       "    <tr>\n",
       "      <td>4</td>\n",
       "      <td>verified</td>\n",
       "      <td>Manhattan</td>\n",
       "      <td>East Harlem</td>\n",
       "      <td>40.79851</td>\n",
       "      <td>-73.94399</td>\n",
       "      <td>False</td>\n",
       "      <td>moderate</td>\n",
       "      <td>Entire home/apt</td>\n",
       "      <td>2009.0</td>\n",
       "      <td>$204</td>\n",
       "      <td>$41</td>\n",
       "      <td>10.0</td>\n",
       "      <td>9.0</td>\n",
       "      <td>0.10</td>\n",
       "      <td>3.0</td>\n",
       "      <td>1.0</td>\n",
       "      <td>289.0</td>\n",
       "    </tr>\n",
       "  </tbody>\n",
       "</table>\n",
       "</div>"
      ],
      "text/plain": [
       "  host_identity_verified neighbourhood_group neighbourhood       lat  \\\n",
       "0            unconfirmed            Brooklyn    Kensington  40.64749   \n",
       "1               verified           Manhattan       Midtown  40.75362   \n",
       "2                    NaN           Manhattan        Harlem  40.80902   \n",
       "3            unconfirmed            Brooklyn  Clinton Hill  40.68514   \n",
       "4               verified           Manhattan   East Harlem  40.79851   \n",
       "\n",
       "       long instant_bookable cancellation_policy        room_type  \\\n",
       "0 -73.97237            False              strict     Private room   \n",
       "1 -73.98377            False            moderate  Entire home/apt   \n",
       "2 -73.94190             True            flexible     Private room   \n",
       "3 -73.95976             True            moderate  Entire home/apt   \n",
       "4 -73.94399            False            moderate  Entire home/apt   \n",
       "\n",
       "   construction_year  price service_fee  minimum_nights  number_of_reviews  \\\n",
       "0             2020.0  $966        $193             10.0                9.0   \n",
       "1             2007.0  $142         $28             30.0               45.0   \n",
       "2             2005.0  $620        $124              3.0                0.0   \n",
       "3             2005.0  $368         $74             30.0              270.0   \n",
       "4             2009.0  $204         $41             10.0                9.0   \n",
       "\n",
       "   reviews_per_month  review_rate_number  calculated_host_listings_count  \\\n",
       "0               0.21                 4.0                             6.0   \n",
       "1               0.38                 4.0                             2.0   \n",
       "2                NaN                 5.0                             1.0   \n",
       "3               4.64                 4.0                             1.0   \n",
       "4               0.10                 3.0                             1.0   \n",
       "\n",
       "   days_booked  \n",
       "0        286.0  \n",
       "1        228.0  \n",
       "2        352.0  \n",
       "3        322.0  \n",
       "4        289.0  "
      ]
     },
     "execution_count": 770,
     "metadata": {},
     "output_type": "execute_result"
    }
   ],
   "source": [
    "df.head()"
   ]
  },
  {
   "cell_type": "code",
   "execution_count": 771,
   "metadata": {
    "id": "38430057"
   },
   "outputs": [],
   "source": [
    "## Remove the dollar sign and comma from the columns. If necessary, convert these two columns to the appropriate data type.\n",
    "\n",
    "df.price=df.price.str.replace(',','').str.replace('$','').str.replace(' ','').astype('float')\n",
    "df.service_fee=df.service_fee.str.replace(',','').str.replace('$','').str.replace(' ','').astype('float')"
   ]
  },
  {
   "cell_type": "markdown",
   "metadata": {},
   "source": [
    "### Replacing misspelled values"
   ]
  },
  {
   "cell_type": "code",
   "execution_count": 794,
   "metadata": {},
   "outputs": [
    {
     "data": {
      "text/plain": [
       "array(['2020', '2007', '2005', '2009', '2013', '2015', '2004', '2008',\n",
       "       '2010', '2019', '2018', '2006', '2016', '2017', '2021', '2003',\n",
       "       '2011', '2012', '2022', '2014', nan], dtype=object)"
      ]
     },
     "execution_count": 794,
     "metadata": {},
     "output_type": "execute_result"
    }
   ],
   "source": [
    "def filterfunc(x):\n",
    "    try:\n",
    "        x=str(int(x))\n",
    "    except ValueError:\n",
    "        pass\n",
    "    return x\n",
    "    \n",
    "df.construction_year.apply(filterfunc).unique()\n",
    "# df.construction_year[df.construction_year.notna()].astype('int').max()"
   ]
  },
  {
   "cell_type": "markdown",
   "metadata": {},
   "source": [
    "There are misspellings in the names of neighborhood groups."
   ]
  },
  {
   "cell_type": "code",
   "execution_count": 748,
   "metadata": {},
   "outputs": [
    {
     "data": {
      "text/plain": [
       "array(['Brooklyn', 'Manhattan', 'brookln', 'manhatan', 'Queens', nan,\n",
       "       'Staten Island', 'Bronx'], dtype=object)"
      ]
     },
     "execution_count": 748,
     "metadata": {},
     "output_type": "execute_result"
    }
   ],
   "source": [
    "df.neighbourhood_group.unique()"
   ]
  },
  {
   "cell_type": "code",
   "execution_count": 749,
   "metadata": {},
   "outputs": [],
   "source": [
    "df.neighbourhood_group=df.neighbourhood_group.replace('brookln','Brooklyn').replace('manhatan','Manhattan')"
   ]
  },
  {
   "cell_type": "code",
   "execution_count": 750,
   "metadata": {},
   "outputs": [
    {
     "data": {
      "text/plain": [
       "array(['Brooklyn', 'Manhattan', 'Queens', nan, 'Staten Island', 'Bronx'],\n",
       "      dtype=object)"
      ]
     },
     "execution_count": 750,
     "metadata": {},
     "output_type": "execute_result"
    }
   ],
   "source": [
    "df.neighbourhood_group.unique()"
   ]
  },
  {
   "cell_type": "markdown",
   "metadata": {},
   "source": [
    "The values in the Year column should be integer or string. I've chosen string datatype"
   ]
  },
  {
   "cell_type": "code",
   "execution_count": 751,
   "metadata": {},
   "outputs": [],
   "source": [
    "Filter_NaN_value_Year=df.construction_year.notna()"
   ]
  },
  {
   "cell_type": "code",
   "execution_count": 753,
   "metadata": {},
   "outputs": [
    {
     "name": "stderr",
     "output_type": "stream",
     "text": [
      "C:\\Users\\Elena\\Anaconda3\\lib\\site-packages\\ipykernel_launcher.py:1: SettingWithCopyWarning: \n",
      "A value is trying to be set on a copy of a slice from a DataFrame\n",
      "\n",
      "See the caveats in the documentation: http://pandas.pydata.org/pandas-docs/stable/user_guide/indexing.html#returning-a-view-versus-a-copy\n",
      "  \"\"\"Entry point for launching an IPython kernel.\n"
     ]
    }
   ],
   "source": [
    "df.construction_year[Filter_NaN_value_Year]=df.construction_year[Filter_NaN_value_Year].astype('str').str.replace('\\.0','')\n",
    "# df.loc[df.construction_year.notna()]=df.construction_year[Filter_NaN_value_Year].astype('str').str.replace('\\.0','')"
   ]
  },
  {
   "cell_type": "code",
   "execution_count": 651,
   "metadata": {},
   "outputs": [
    {
     "data": {
      "text/html": [
       "<div>\n",
       "<style scoped>\n",
       "    .dataframe tbody tr th:only-of-type {\n",
       "        vertical-align: middle;\n",
       "    }\n",
       "\n",
       "    .dataframe tbody tr th {\n",
       "        vertical-align: top;\n",
       "    }\n",
       "\n",
       "    .dataframe thead th {\n",
       "        text-align: right;\n",
       "    }\n",
       "</style>\n",
       "<table border=\"1\" class=\"dataframe\">\n",
       "  <thead>\n",
       "    <tr style=\"text-align: right;\">\n",
       "      <th></th>\n",
       "      <th>host_identity_verified</th>\n",
       "      <th>neighbourhood_group</th>\n",
       "      <th>neighbourhood</th>\n",
       "      <th>lat</th>\n",
       "      <th>long</th>\n",
       "      <th>instant_bookable</th>\n",
       "      <th>cancellation_policy</th>\n",
       "      <th>room_type</th>\n",
       "      <th>construction_year</th>\n",
       "      <th>price</th>\n",
       "      <th>service_fee</th>\n",
       "      <th>minimum_nights</th>\n",
       "      <th>number_of_reviews</th>\n",
       "      <th>reviews_per_month</th>\n",
       "      <th>review_rate_number</th>\n",
       "      <th>calculated_host_listings_count</th>\n",
       "      <th>days_booked</th>\n",
       "    </tr>\n",
       "  </thead>\n",
       "  <tbody>\n",
       "    <tr>\n",
       "      <td>0</td>\n",
       "      <td>unconfirmed</td>\n",
       "      <td>Brooklyn</td>\n",
       "      <td>Kensington</td>\n",
       "      <td>40.64749</td>\n",
       "      <td>-73.97237</td>\n",
       "      <td>False</td>\n",
       "      <td>strict</td>\n",
       "      <td>Private room</td>\n",
       "      <td>2020</td>\n",
       "      <td>966.0</td>\n",
       "      <td>193.0</td>\n",
       "      <td>10.0</td>\n",
       "      <td>9.0</td>\n",
       "      <td>0.21</td>\n",
       "      <td>4.0</td>\n",
       "      <td>6.0</td>\n",
       "      <td>286.0</td>\n",
       "    </tr>\n",
       "    <tr>\n",
       "      <td>1</td>\n",
       "      <td>verified</td>\n",
       "      <td>Manhattan</td>\n",
       "      <td>Midtown</td>\n",
       "      <td>40.75362</td>\n",
       "      <td>-73.98377</td>\n",
       "      <td>False</td>\n",
       "      <td>moderate</td>\n",
       "      <td>Entire home/apt</td>\n",
       "      <td>2007</td>\n",
       "      <td>142.0</td>\n",
       "      <td>28.0</td>\n",
       "      <td>30.0</td>\n",
       "      <td>45.0</td>\n",
       "      <td>0.38</td>\n",
       "      <td>4.0</td>\n",
       "      <td>2.0</td>\n",
       "      <td>228.0</td>\n",
       "    </tr>\n",
       "    <tr>\n",
       "      <td>2</td>\n",
       "      <td>NaN</td>\n",
       "      <td>Manhattan</td>\n",
       "      <td>Harlem</td>\n",
       "      <td>40.80902</td>\n",
       "      <td>-73.94190</td>\n",
       "      <td>True</td>\n",
       "      <td>flexible</td>\n",
       "      <td>Private room</td>\n",
       "      <td>2005</td>\n",
       "      <td>620.0</td>\n",
       "      <td>124.0</td>\n",
       "      <td>3.0</td>\n",
       "      <td>0.0</td>\n",
       "      <td>NaN</td>\n",
       "      <td>5.0</td>\n",
       "      <td>1.0</td>\n",
       "      <td>352.0</td>\n",
       "    </tr>\n",
       "    <tr>\n",
       "      <td>3</td>\n",
       "      <td>unconfirmed</td>\n",
       "      <td>Brooklyn</td>\n",
       "      <td>Clinton Hill</td>\n",
       "      <td>40.68514</td>\n",
       "      <td>-73.95976</td>\n",
       "      <td>True</td>\n",
       "      <td>moderate</td>\n",
       "      <td>Entire home/apt</td>\n",
       "      <td>2005</td>\n",
       "      <td>368.0</td>\n",
       "      <td>74.0</td>\n",
       "      <td>30.0</td>\n",
       "      <td>270.0</td>\n",
       "      <td>4.64</td>\n",
       "      <td>4.0</td>\n",
       "      <td>1.0</td>\n",
       "      <td>322.0</td>\n",
       "    </tr>\n",
       "    <tr>\n",
       "      <td>4</td>\n",
       "      <td>verified</td>\n",
       "      <td>Manhattan</td>\n",
       "      <td>East Harlem</td>\n",
       "      <td>40.79851</td>\n",
       "      <td>-73.94399</td>\n",
       "      <td>False</td>\n",
       "      <td>moderate</td>\n",
       "      <td>Entire home/apt</td>\n",
       "      <td>2009</td>\n",
       "      <td>204.0</td>\n",
       "      <td>41.0</td>\n",
       "      <td>10.0</td>\n",
       "      <td>9.0</td>\n",
       "      <td>0.10</td>\n",
       "      <td>3.0</td>\n",
       "      <td>1.0</td>\n",
       "      <td>289.0</td>\n",
       "    </tr>\n",
       "  </tbody>\n",
       "</table>\n",
       "</div>"
      ],
      "text/plain": [
       "  host_identity_verified neighbourhood_group neighbourhood       lat  \\\n",
       "0            unconfirmed            Brooklyn    Kensington  40.64749   \n",
       "1               verified           Manhattan       Midtown  40.75362   \n",
       "2                    NaN           Manhattan        Harlem  40.80902   \n",
       "3            unconfirmed            Brooklyn  Clinton Hill  40.68514   \n",
       "4               verified           Manhattan   East Harlem  40.79851   \n",
       "\n",
       "       long instant_bookable cancellation_policy        room_type  \\\n",
       "0 -73.97237            False              strict     Private room   \n",
       "1 -73.98377            False            moderate  Entire home/apt   \n",
       "2 -73.94190             True            flexible     Private room   \n",
       "3 -73.95976             True            moderate  Entire home/apt   \n",
       "4 -73.94399            False            moderate  Entire home/apt   \n",
       "\n",
       "  construction_year  price  service_fee  minimum_nights  number_of_reviews  \\\n",
       "0              2020  966.0        193.0            10.0                9.0   \n",
       "1              2007  142.0         28.0            30.0               45.0   \n",
       "2              2005  620.0        124.0             3.0                0.0   \n",
       "3              2005  368.0         74.0            30.0              270.0   \n",
       "4              2009  204.0         41.0            10.0                9.0   \n",
       "\n",
       "   reviews_per_month  review_rate_number  calculated_host_listings_count  \\\n",
       "0               0.21                 4.0                             6.0   \n",
       "1               0.38                 4.0                             2.0   \n",
       "2                NaN                 5.0                             1.0   \n",
       "3               4.64                 4.0                             1.0   \n",
       "4               0.10                 3.0                             1.0   \n",
       "\n",
       "   days_booked  \n",
       "0        286.0  \n",
       "1        228.0  \n",
       "2        352.0  \n",
       "3        322.0  \n",
       "4        289.0  "
      ]
     },
     "execution_count": 651,
     "metadata": {},
     "output_type": "execute_result"
    }
   ],
   "source": [
    "df.head()"
   ]
  },
  {
   "cell_type": "code",
   "execution_count": null,
   "metadata": {},
   "outputs": [],
   "source": []
  },
  {
   "cell_type": "markdown",
   "metadata": {},
   "source": [
    "### Setting data types"
   ]
  },
  {
   "cell_type": "code",
   "execution_count": 652,
   "metadata": {},
   "outputs": [],
   "source": [
    "categorical_columns=['host_identity_verified', 'neighbourhood_group', 'neighbourhood','cancellation_policy', 'room_type','construction_year']\n",
    "\n",
    "boolean_columns=['instant_bookable']\n",
    "\n",
    "for column in categorical_columns:\n",
    "    df[column]=df[column].astype('category')\n",
    "    \n",
    "for column in boolean_columns:\n",
    "    df[column]=df[column].astype('bool')"
   ]
  },
  {
   "cell_type": "code",
   "execution_count": 653,
   "metadata": {},
   "outputs": [
    {
     "name": "stderr",
     "output_type": "stream",
     "text": [
      "C:\\Users\\Elena\\Anaconda3\\lib\\site-packages\\ipykernel_launcher.py:1: FutureWarning: DataFrame.ftypes is deprecated and will be removed in a future version. Use DataFrame.dtypes instead.\n",
      "  \"\"\"Entry point for launching an IPython kernel.\n"
     ]
    },
    {
     "data": {
      "text/plain": [
       "host_identity_verified            category:dense\n",
       "neighbourhood_group               category:dense\n",
       "neighbourhood                     category:dense\n",
       "lat                                float64:dense\n",
       "long                               float64:dense\n",
       "instant_bookable                      bool:dense\n",
       "cancellation_policy               category:dense\n",
       "room_type                         category:dense\n",
       "construction_year                 category:dense\n",
       "price                              float64:dense\n",
       "service_fee                        float64:dense\n",
       "minimum_nights                     float64:dense\n",
       "number_of_reviews                  float64:dense\n",
       "reviews_per_month                  float64:dense\n",
       "review_rate_number                 float64:dense\n",
       "calculated_host_listings_count     float64:dense\n",
       "days_booked                        float64:dense\n",
       "dtype: object"
      ]
     },
     "execution_count": 653,
     "metadata": {},
     "output_type": "execute_result"
    }
   ],
   "source": [
    "df.ftypes"
   ]
  },
  {
   "cell_type": "markdown",
   "metadata": {},
   "source": [
    "### Replacing NaN values"
   ]
  },
  {
   "cell_type": "code",
   "execution_count": 654,
   "metadata": {},
   "outputs": [
    {
     "name": "stdout",
     "output_type": "stream",
     "text": [
      "instant_bookable                      0\n",
      "room_type                             0\n",
      "lat                                   8\n",
      "long                                  8\n",
      "neighbourhood                        16\n",
      "neighbourhood_group                  29\n",
      "cancellation_policy                  76\n",
      "number_of_reviews                   180\n",
      "construction_year                   214\n",
      "price                               247\n",
      "service_fee                         273\n",
      "host_identity_verified              289\n",
      "calculated_host_listings_count      308\n",
      "review_rate_number                  313\n",
      "minimum_nights                      398\n",
      "days_booked                         448\n",
      "reviews_per_month                 15338\n",
      "dtype: int64\n"
     ]
    }
   ],
   "source": [
    "df_nullcount = df.isnull().sum()\n",
    "print(df_nullcount.sort_values())"
   ]
  },
  {
   "cell_type": "markdown",
   "metadata": {},
   "source": [
    "After the duplicates are removed, and the data types and values are corrected, I replace the missing values (with mod value for categorical data and median value for numerical):"
   ]
  },
  {
   "cell_type": "code",
   "execution_count": 672,
   "metadata": {},
   "outputs": [
    {
     "name": "stdout",
     "output_type": "stream",
     "text": [
      "the mode value is  unconfirmed \n",
      "\n",
      "the mode value is  Manhattan \n",
      "\n",
      "the mode value is  Bedford-Stuyvesant \n",
      "\n",
      "40.72235\n",
      "-73.95447\n",
      "the mode value is  moderate \n",
      "\n",
      "the mode value is  Entire home/apt \n",
      "\n",
      "the mode value is  2014 \n",
      "\n",
      "625.0\n",
      "125.0\n",
      "3.0\n",
      "7.0\n",
      "0.74\n",
      "3.0\n",
      "1.0\n",
      "99.0\n"
     ]
    },
    {
     "name": "stderr",
     "output_type": "stream",
     "text": [
      "C:\\Users\\Elena\\Anaconda3\\lib\\site-packages\\ipykernel_launcher.py:4: FutureWarning: Series.ftypes is deprecated and will be removed in a future version. Use Series.dtype instead.\n",
      "  after removing the cwd from sys.path.\n",
      "C:\\Users\\Elena\\Anaconda3\\lib\\site-packages\\ipykernel_launcher.py:9: FutureWarning: Series.ftypes is deprecated and will be removed in a future version. Use Series.dtype instead.\n",
      "  if __name__ == '__main__':\n"
     ]
    }
   ],
   "source": [
    "mode=''\n",
    "median=0\n",
    "for column in df:\n",
    "    if df[column].ftypes == 'category:dense':\n",
    "        mode=df[column].mode()\n",
    "        print(\"the mode value is \", mode[0], \"\\n\")\n",
    "        df[column].fillna(mode[0], inplace=True)\n",
    "        \n",
    "    if df[column].ftypes == 'float64:dense':\n",
    "        median=df[column].median()\n",
    "        print(median)\n",
    "        df[column].fillna(median, inplace=True)"
   ]
  },
  {
   "cell_type": "code",
   "execution_count": 673,
   "metadata": {},
   "outputs": [
    {
     "name": "stdout",
     "output_type": "stream",
     "text": [
      "host_identity_verified            0\n",
      "review_rate_number                0\n",
      "reviews_per_month                 0\n",
      "number_of_reviews                 0\n",
      "minimum_nights                    0\n",
      "service_fee                       0\n",
      "price                             0\n",
      "calculated_host_listings_count    0\n",
      "construction_year                 0\n",
      "cancellation_policy               0\n",
      "instant_bookable                  0\n",
      "long                              0\n",
      "lat                               0\n",
      "neighbourhood                     0\n",
      "neighbourhood_group               0\n",
      "room_type                         0\n",
      "days_booked                       0\n",
      "dtype: int64\n"
     ]
    }
   ],
   "source": [
    "df_nullcount = df.isnull().sum()\n",
    "print(df_nullcount.sort_values())"
   ]
  },
  {
   "cell_type": "markdown",
   "metadata": {
    "id": "f5fdef8b"
   },
   "source": [
    "### Task 4: Exploratory Data Analysis (Any Tool)\n",
    "\n",
    "- List the count of various room types avaliable in the dataset.\n",
    "- Which room type has the most strict cancellation policy?\n",
    "- List the average price per neighborhood group, and highlight the most expensive neighborhood to rent from.\n",
    "\n",
    "If using Python for this exercise, please include the code in the cells below. If using any other tool, please include screenshoots of your work."
   ]
  },
  {
   "cell_type": "code",
   "execution_count": 680,
   "metadata": {
    "id": "c171e196"
   },
   "outputs": [
    {
     "data": {
      "text/plain": [
       "Entire home/apt    51908\n",
       "Private room       44796\n",
       "Shared room         2144\n",
       "Hotel room           115\n",
       "Name: room_type, dtype: int64"
      ]
     },
     "execution_count": 680,
     "metadata": {},
     "output_type": "execute_result"
    }
   ],
   "source": [
    "## List the count of various room types avaliable with Airbnb\n",
    "df.room_type.value_counts()"
   ]
  },
  {
   "cell_type": "code",
   "execution_count": 705,
   "metadata": {},
   "outputs": [
    {
     "name": "stdout",
     "output_type": "stream",
     "text": [
      "flexible    0.330409\n",
      "moderate    0.336950\n",
      "strict      0.332641\n",
      "Name: cancellation_policy, dtype: float64\n",
      "flexible    0.334033\n",
      "moderate    0.334476\n",
      "strict      0.331490\n",
      "Name: cancellation_policy, dtype: float64\n",
      "flexible    0.331623\n",
      "moderate    0.333955\n",
      "strict      0.334422\n",
      "Name: cancellation_policy, dtype: float64\n",
      "flexible    0.382609\n",
      "moderate    0.321739\n",
      "strict      0.295652\n",
      "Name: cancellation_policy, dtype: float64\n"
     ]
    }
   ],
   "source": [
    "## Which room type adheres to more strict cancellation policy\n",
    "\n",
    "for x in df.room_type.unique():\n",
    "    print(df[df.room_type == x].cancellation_policy.value_counts(normalize=True, sort=False))\n",
    "#     print(x, df[df.room_type == x], '\\n')"
   ]
  },
  {
   "cell_type": "code",
   "execution_count": 720,
   "metadata": {
    "id": "d01c1ac4"
   },
   "outputs": [
    {
     "name": "stdout",
     "output_type": "stream",
     "text": [
      "Brooklyn 626.4011607718637 331.5612289097623\n",
      "Manhattan 622.7137186333349 331.1755509007278\n",
      "Queens 629.568125 333.1512445509407\n",
      "Staten Island 627.2699453551912 325.6492258505202\n",
      "Bronx 627.0743865030674 323.97968816946263\n"
     ]
    }
   ],
   "source": [
    "## List the prices by neighborhood group and also mention which is the most expensive neighborhood group for rentals\n",
    "\n",
    "df.sort_values('neighbourhood_group')[['neighbourhood_group',\"price\"]]\n",
    "for x in df.neighbourhood_group.unique():\n",
    "    print(x, df[df.neighbourhood_group == x].price.mean(), df[df.neighbourhood_group == x].price.std())"
   ]
  },
  {
   "cell_type": "markdown",
   "metadata": {
    "id": "ca3ed1e6"
   },
   "source": [
    "## Task 5a: Data Visualization (Any Tool)\n",
    "\n",
    "* List the count of various room types avaliable with Airnb\n",
    "* Which room type adheres to more strict cancellation policy\n",
    "* List the prices by neighborhood group and also mention which is the most expensive neighborhood group for rentals\n",
    "* List the top 10 neighborhoods in the increasing order of their price with the help of a horizontal bar graph. Which is the cheapest neighborhood.\n",
    "* List the neighborhoods which offer short term rentals within 10 days. Illustrate with a bar graph\n",
    "* List the prices with respect to room type using a bar graph and also state your inferences.\n",
    "* Create a pie chart that shows  distribution of booked days for each neighborhood group .Which neighborhood has the highest booking percentage.\n",
    "\n",
    "If using Python for this exercise, please include the code in the cells below. If using any other tool, please include screenshoots of your work."
   ]
  },
  {
   "cell_type": "code",
   "execution_count": 726,
   "metadata": {
    "id": "a4c17b11"
   },
   "outputs": [
    {
     "data": {
      "text/html": [
       "<div>\n",
       "<style scoped>\n",
       "    .dataframe tbody tr th:only-of-type {\n",
       "        vertical-align: middle;\n",
       "    }\n",
       "\n",
       "    .dataframe tbody tr th {\n",
       "        vertical-align: top;\n",
       "    }\n",
       "\n",
       "    .dataframe thead th {\n",
       "        text-align: right;\n",
       "    }\n",
       "</style>\n",
       "<table border=\"1\" class=\"dataframe\">\n",
       "  <thead>\n",
       "    <tr style=\"text-align: right;\">\n",
       "      <th></th>\n",
       "      <th>neighbourhood</th>\n",
       "      <th>price</th>\n",
       "    </tr>\n",
       "  </thead>\n",
       "  <tbody>\n",
       "    <tr>\n",
       "      <td>0</td>\n",
       "      <td>Kensington</td>\n",
       "      <td>966.0</td>\n",
       "    </tr>\n",
       "    <tr>\n",
       "      <td>1</td>\n",
       "      <td>Midtown</td>\n",
       "      <td>142.0</td>\n",
       "    </tr>\n",
       "    <tr>\n",
       "      <td>2</td>\n",
       "      <td>Harlem</td>\n",
       "      <td>620.0</td>\n",
       "    </tr>\n",
       "    <tr>\n",
       "      <td>3</td>\n",
       "      <td>Clinton Hill</td>\n",
       "      <td>368.0</td>\n",
       "    </tr>\n",
       "    <tr>\n",
       "      <td>4</td>\n",
       "      <td>East Harlem</td>\n",
       "      <td>204.0</td>\n",
       "    </tr>\n",
       "    <tr>\n",
       "      <td>...</td>\n",
       "      <td>...</td>\n",
       "      <td>...</td>\n",
       "    </tr>\n",
       "    <tr>\n",
       "      <td>102053</td>\n",
       "      <td>Flatbush</td>\n",
       "      <td>696.0</td>\n",
       "    </tr>\n",
       "    <tr>\n",
       "      <td>102054</td>\n",
       "      <td>Bushwick</td>\n",
       "      <td>909.0</td>\n",
       "    </tr>\n",
       "    <tr>\n",
       "      <td>102055</td>\n",
       "      <td>Bedford-Stuyvesant</td>\n",
       "      <td>387.0</td>\n",
       "    </tr>\n",
       "    <tr>\n",
       "      <td>102056</td>\n",
       "      <td>Harlem</td>\n",
       "      <td>848.0</td>\n",
       "    </tr>\n",
       "    <tr>\n",
       "      <td>102057</td>\n",
       "      <td>Harlem</td>\n",
       "      <td>1128.0</td>\n",
       "    </tr>\n",
       "  </tbody>\n",
       "</table>\n",
       "<p>98963 rows × 2 columns</p>\n",
       "</div>"
      ],
      "text/plain": [
       "             neighbourhood   price\n",
       "0               Kensington   966.0\n",
       "1                  Midtown   142.0\n",
       "2                   Harlem   620.0\n",
       "3             Clinton Hill   368.0\n",
       "4              East Harlem   204.0\n",
       "...                    ...     ...\n",
       "102053            Flatbush   696.0\n",
       "102054            Bushwick   909.0\n",
       "102055  Bedford-Stuyvesant   387.0\n",
       "102056              Harlem   848.0\n",
       "102057              Harlem  1128.0\n",
       "\n",
       "[98963 rows x 2 columns]"
      ]
     },
     "execution_count": 726,
     "metadata": {},
     "output_type": "execute_result"
    }
   ],
   "source": [
    "df[df['neighbourhood'].\"price\"]]"
   ]
  },
  {
   "cell_type": "code",
   "execution_count": null,
   "metadata": {
    "id": "2c28b705"
   },
   "outputs": [],
   "source": []
  },
  {
   "cell_type": "code",
   "execution_count": null,
   "metadata": {
    "id": "1d567723"
   },
   "outputs": [],
   "source": []
  },
  {
   "cell_type": "markdown",
   "metadata": {
    "id": "9c313303"
   },
   "source": [
    "## Task 5b: Data Visualization (Any Tool)\n",
    "\n",
    "* Does service price and room price have an impact on each other. Illustrate this relationship with a scatter plot and state your inferences\n",
    "* Using a line graph show in which year the maximum construction of rooms took place.\n",
    "\n",
    "If using Python for this exercise, please include the code in the cells below. If using any other tool, please include screenshoots of your work."
   ]
  },
  {
   "cell_type": "code",
   "execution_count": null,
   "metadata": {
    "id": "8c9d22b5"
   },
   "outputs": [],
   "source": []
  },
  {
   "cell_type": "code",
   "execution_count": null,
   "metadata": {
    "id": "343be5c4"
   },
   "outputs": [],
   "source": []
  },
  {
   "cell_type": "markdown",
   "metadata": {
    "id": "9db2466c"
   },
   "source": [
    "## Task 5c: Data Visualization (Any Tool)\n",
    "\n",
    "* With the help of box plots illustrate the following\n",
    " * Effect of Review Rate number on price\n",
    " * Effect of host identity verified on price\n",
    "\n",
    "If using Python for this exercise, please include the code in the cells below. If using any other tool, please include screenshoots of your work."
   ]
  },
  {
   "cell_type": "code",
   "execution_count": null,
   "metadata": {
    "id": "3f1fb0c3"
   },
   "outputs": [],
   "source": []
  },
  {
   "cell_type": "code",
   "execution_count": null,
   "metadata": {
    "id": "fcdb016f"
   },
   "outputs": [],
   "source": []
  },
  {
   "cell_type": "code",
   "execution_count": null,
   "metadata": {
    "id": "1d65f685"
   },
   "outputs": [],
   "source": []
  }
 ],
 "metadata": {
  "colab": {
   "provenance": []
  },
  "kernelspec": {
   "display_name": "Python 3",
   "language": "python",
   "name": "python3"
  },
  "language_info": {
   "codemirror_mode": {
    "name": "ipython",
    "version": 3
   },
   "file_extension": ".py",
   "mimetype": "text/x-python",
   "name": "python",
   "nbconvert_exporter": "python",
   "pygments_lexer": "ipython3",
   "version": "3.7.4"
  },
  "nteract": {
   "version": "0.28.0"
  }
 },
 "nbformat": 4,
 "nbformat_minor": 5
}
